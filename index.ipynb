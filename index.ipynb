{
 "cells": [
  {
   "cell_type": "markdown",
   "metadata": {},
   "source": [
    "# Python Fundamentals - Introduction"
   ]
  },
  {
   "cell_type": "markdown",
   "metadata": {},
   "source": [
    "## Introduction\n",
    "In this section, you'll learn about one of the core topics required for data science: coding! You'll get exposed to the fundamentals of Python as well as a brief introduction to data visualization. "
   ]
  },
  {
   "cell_type": "markdown",
   "metadata": {},
   "source": [
    "## Coding in Python \n",
    "\n",
    " We will first introduce some of the most important elements of programming in Python. We start from the basics, but move fairly quickly. We cover variables, common data types, conditionals, lists, dictionaries, loops, and functions. This may not all seem immediately relevant to data science, but it's designed to give you the tools that you'll need for all of your future projects in Python.\n",
    "\n",
    "If you're new to Python (or programming), at times you may feel a little overwhelmed. Don't worry. We'll spend the rest of the course practicing and deepening your understanding of the materials we introduce in this section.\n",
    "\n",
    "## Visualizing Data\n",
    "\n",
    "We take a little bit of time to introduce you to `Matplotlib` - one of the most popular tools in Python for generating visualizations.\n",
    "\n",
    "<img src=\"https://raw.githubusercontent.com/learn-co-curriculum/dsc-prework-python-intro/curriculum/images/matplotlib.jpg\" width=\"450\">\n",
    "\n",
    "You will also use some simple datasets to generate bar graphs, histograms, and scatter plots. "
   ]
  },
  {
   "cell_type": "markdown",
   "metadata": {},
   "source": [
    "## Summary\n",
    "\n",
    "Remember, it's OK to feel a little uncomfortable. For some students, this section will be the most difficult as it introduces many new concepts at once, but you'll continue to practice these day after day, until they become second nature. For those of you with a strong background in computing, we recommend reviewing these lessons. It's never a bad idea to review the fundamentals. We've introduced additional challenges for students who are finding the labs easy, so look out for the \"Level Up (optional)\" section in some of the labs to get some deeper practice with Python and visualization."
   ]
  }
 ],
 "metadata": {
  "hide_input": false,
  "kernelspec": {
   "display_name": "Python 3",
   "language": "python",
   "name": "python3"
  },
  "language_info": {
   "codemirror_mode": {
    "name": "ipython",
    "version": 3
   },
   "file_extension": ".py",
   "mimetype": "text/x-python",
   "name": "python",
   "nbconvert_exporter": "python",
   "pygments_lexer": "ipython3",
   "version": "3.6.9"
  },
  "toc": {
   "base_numbering": 1,
   "nav_menu": {},
   "number_sections": false,
   "sideBar": true,
   "skip_h1_title": true,
   "title_cell": "Table of Contents",
   "title_sidebar": "Contents",
   "toc_cell": false,
   "toc_position": {},
   "toc_section_display": true,
   "toc_window_display": false
  },
  "varInspector": {
   "cols": {
    "lenName": 16,
    "lenType": 16,
    "lenVar": 40
   },
   "kernels_config": {
    "python": {
     "delete_cmd_postfix": "",
     "delete_cmd_prefix": "del ",
     "library": "var_list.py",
     "varRefreshCmd": "print(var_dic_list())"
    },
    "r": {
     "delete_cmd_postfix": ") ",
     "delete_cmd_prefix": "rm(",
     "library": "var_list.r",
     "varRefreshCmd": "cat(var_dic_list()) "
    }
   },
   "types_to_exclude": [
    "module",
    "function",
    "builtin_function_or_method",
    "instance",
    "_Feature"
   ],
   "window_display": false
  }
 },
 "nbformat": 4,
 "nbformat_minor": 2
}
